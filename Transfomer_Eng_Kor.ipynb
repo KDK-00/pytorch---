{
  "nbformat": 4,
  "nbformat_minor": 0,
  "metadata": {
    "colab": {
      "provenance": [],
      "mount_file_id": "1XQ8oluN9GQsRtI-_BRr72Mnmbo8TwJwQ",
      "authorship_tag": "ABX9TyNh/bz6yJpxjKl3E5KAzaus",
      "include_colab_link": true
    },
    "kernelspec": {
      "name": "python3",
      "display_name": "Python 3"
    },
    "language_info": {
      "name": "python"
    }
  },
  "cells": [
    {
      "cell_type": "markdown",
      "metadata": {
        "id": "view-in-github",
        "colab_type": "text"
      },
      "source": [
        "<a href=\"https://colab.research.google.com/github/KDK-00/pytorch-transfomer/blob/main/Transfomer_Eng_Kor.ipynb\" target=\"_parent\"><img src=\"https://colab.research.google.com/assets/colab-badge.svg\" alt=\"Open In Colab\"/></a>"
      ]
    },
    {
      "cell_type": "code",
      "source": [
        "import tensorflow as tf\n",
        "\n",
        "import matplotlib.pyplot as plt\n",
        "import matplotlib.ticker as ticker\n",
        "from sklearn.model_selection import train_test_split\n",
        "\n",
        "import unicodedata\n",
        "import re\n",
        "import numpy as np\n",
        "import os\n",
        "import io\n",
        "import time"
      ],
      "metadata": {
        "id": "82MB6EiHB6KL"
      },
      "execution_count": 60,
      "outputs": []
    },
    {
      "cell_type": "code",
      "source": [
        "path_to_file = '/content/ko-en_translation1.CSV'"
      ],
      "metadata": {
        "id": "Jd9DsDI3Iwbw"
      },
      "execution_count": 61,
      "outputs": []
    },
    {
      "cell_type": "code",
      "source": [
        "import pandas as pd\n",
        "import re\n",
        "import unicodedata"
      ],
      "metadata": {
        "id": "sGqCZQ-TWkIg"
      },
      "execution_count": 75,
      "outputs": []
    },
    {
      "cell_type": "code",
      "source": [
        "def unicode_to_ascii(s):\n",
        "    return ''.join(c for c in unicodedata.normalize('NFD', s)\n",
        "                   if unicodedata.category(c) != 'Mn')\n",
        "\n",
        "def preprocess_sentence(w, is_korean=False):\n",
        "    if not is_korean:\n",
        "        w = unicode_to_ascii(w.lower().strip())\n",
        "\n",
        "    # 단어와 단어 뒤에 오는 구두점(.)사이에 공백을 생성합니다.\n",
        "    w = re.sub(r\"([?.!,¿])\", r\" \\1 \", w)\n",
        "    w = re.sub(r'[\" \"]+', \" \", w)\n",
        "\n",
        "    # 한국어가 아니면 (a-z, A-Z, \".\", \"?\", \"!\", \",\")을 제외한 모든 것을 공백으로 대체합니다.\n",
        "    if not is_korean:\n",
        "        w = re.sub(r\"[^a-zA-Z?.!,¿]+\", \" \", w)\n",
        "    else:\n",
        "        # 한국어의 경우: 영어, 한글, 구두점만 남깁니다.\n",
        "        w = re.sub(r\"[^가-힣a-zA-Z?.!,¿]+\", \" \", w)\n",
        "\n",
        "    w = w.strip()\n",
        "\n",
        "    # 문장에 start와 end 토큰을 추가합니다.\n",
        "    w = '<start> ' + w + ' <end>'\n",
        "    return w"
      ],
      "metadata": {
        "id": "WzKtmqezTZE3"
      },
      "execution_count": 77,
      "outputs": []
    },
    {
      "cell_type": "code",
      "source": [
        "en_sentence = u\"May I borrow this book?\"\n",
        "kr_sentence = u\"이 책을 빌릴 수 있을까요?\"\n",
        "print(preprocess_sentence(en_sentence))\n",
        "print(preprocess_sentence(kr_sentence, is_korean=True))"
      ],
      "metadata": {
        "colab": {
          "base_uri": "https://localhost:8080/"
        },
        "id": "CEKpPJD5VfM_",
        "outputId": "f8965723-63d8-486d-f3c2-bb376dd650d8"
      },
      "execution_count": 79,
      "outputs": [
        {
          "output_type": "stream",
          "name": "stdout",
          "text": [
            "<start> may i borrow this book ? <end>\n",
            "<start> 이 책을 빌릴 수 있을까요 ? <end>\n"
          ]
        }
      ]
    },
    {
      "cell_type": "code",
      "source": [
        "def create_dataset(df, num_examples):\n",
        "    word_pairs = []\n",
        "    for index, row in df.iterrows():\n",
        "        if num_examples and index >= num_examples:\n",
        "            break\n",
        "        kr = row['원문']\n",
        "        en = row['번역문']\n",
        "        word_pairs.append([preprocess_sentence(en), preprocess_sentence(kr, is_korean=True)])\n",
        "\n",
        "    return zip(*word_pairs)\n",
        "\n",
        "df = pd.read_csv(path_to_file, encoding='UTF-8')"
      ],
      "metadata": {
        "id": "3U-b4vp0UCFl"
      },
      "execution_count": 67,
      "outputs": []
    },
    {
      "cell_type": "code",
      "source": [
        "# 병렬 문장 쌍 생성\n",
        "en, kr = create_dataset(df, None)\n",
        "\n",
        "en = list(en)\n",
        "kr = list(kr)\n",
        "\n",
        "print(en[0])\n",
        "print(kr[0])"
      ],
      "metadata": {
        "colab": {
          "base_uri": "https://localhost:8080/"
        },
        "id": "ocxSnT79Tui-",
        "outputId": "48e3740a-fb55-41e5-c3f2-f83534617fe4"
      },
      "execution_count": 69,
      "outputs": [
        {
          "output_type": "stream",
          "name": "stdout",
          "text": [
            "<start> bible coloring is a coloring application that allows you to experience beautiful stories in the bible . <end>\n",
            "<start> Bible Coloring 은 성경의 아름다운 이야기를 체험 할 수 있는 컬러링 앱입니다 . <end>\n"
          ]
        }
      ]
    }
  ]
}